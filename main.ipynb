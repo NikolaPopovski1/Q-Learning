{
 "cells": [
  {
   "cell_type": "markdown",
   "metadata": {},
   "source": [
    "# Q-Learning"
   ]
  },
  {
   "cell_type": "markdown",
   "metadata": {},
   "source": [
    "### Libraries"
   ]
  },
  {
   "cell_type": "code",
   "execution_count": 92,
   "metadata": {},
   "outputs": [],
   "source": [
    "import gymnasium as gym\n",
    "import numpy as np\n",
    "import pygame as pg\n",
    "import matplotlib.pyplot as plt\n",
    "import imageio\n",
    "from collections import defaultdict"
   ]
  },
  {
   "cell_type": "markdown",
   "metadata": {},
   "source": [
    "### Env init"
   ]
  },
  {
   "cell_type": "code",
   "execution_count": 93,
   "metadata": {},
   "outputs": [],
   "source": [
    "env = gym.make(\"FrozenLake-v1\", render_mode=\"rgb_array\", is_slippery=False)"
   ]
  },
  {
   "cell_type": "markdown",
   "metadata": {},
   "source": [
    "### Variables and table"
   ]
  },
  {
   "cell_type": "code",
   "execution_count": 94,
   "metadata": {},
   "outputs": [],
   "source": [
    "n_train_episodes = 10000\n",
    "lr = 0.7\n",
    "n_eval_episodes = 100\n",
    "max_steps = 100\n",
    "gamma = 0.95\n",
    "min_epsilon = 0.05\n",
    "max_epsilon = 1.0\n",
    "decay = 0.0005"
   ]
  },
  {
   "cell_type": "code",
   "execution_count": 95,
   "metadata": {},
   "outputs": [],
   "source": [
    "#'''\n",
    "num_states = env.observation_space.n\n",
    "num_actions = env.action_space.n\n",
    "done = False\n",
    "frames = []\n",
    "Q_table = np.zeros((num_states, num_actions))\n",
    "\n",
    "for ep in range(n_train_episodes):\n",
    "    epsilon = min_epsilon + (max_epsilon - min_epsilon) * np.exp(-decay * ep)\n",
    "    obs, _ = env.reset()\n",
    "    for _ in range(max_steps):\n",
    "        if np.random.random() < epsilon:\n",
    "            action = env.action_space.sample()\n",
    "        else:\n",
    "            action = int(np.argmax(Q_table[obs]))\n",
    "        new_obs, reward, terminated, truncated, _ = env.step(action)\n",
    "        Q_table[obs, action] += lr * (reward + gamma * np.max(Q_table[new_obs]) - Q_table[obs, action])\n",
    "        if terminated or truncated:\n",
    "            break\n",
    "        obs = new_obs\n",
    "\n",
    "#'''"
   ]
  },
  {
   "cell_type": "code",
   "execution_count": 96,
   "metadata": {},
   "outputs": [],
   "source": [
    "obs, _ = env.reset()\n",
    "\n",
    "while True:\n",
    "    action = np.argmax(Q_table[obs])\n",
    "    new_obs, reward, terminated, truncated, _ = env.step(action)\n",
    "    frames.append(env.render())\n",
    "    if terminated or truncated:\n",
    "        break\n",
    "    obs = new_obs\n",
    "\n",
    "env.close()\n",
    "# Save the frames as a GIF\n",
    "imageio.mimsave('results/frozenlake.gif', frames, fps=4)"
   ]
  }
 ],
 "metadata": {
  "kernelspec": {
   "display_name": "Python 3",
   "language": "python",
   "name": "python3"
  },
  "language_info": {
   "codemirror_mode": {
    "name": "ipython",
    "version": 3
   },
   "file_extension": ".py",
   "mimetype": "text/x-python",
   "name": "python",
   "nbconvert_exporter": "python",
   "pygments_lexer": "ipython3",
   "version": "3.13.2"
  }
 },
 "nbformat": 4,
 "nbformat_minor": 2
}
